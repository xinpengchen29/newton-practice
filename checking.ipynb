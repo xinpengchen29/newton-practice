{
 "cells": [
  {
   "cell_type": "code",
   "execution_count": 10,
   "id": "72d30ac8-e009-46ad-af42-4e65ae8d1b73",
   "metadata": {},
   "outputs": [],
   "source": [
    "import newton\n",
    "import numpy as np"
   ]
  },
  {
   "cell_type": "code",
   "execution_count": 15,
   "id": "8f71c952-1668-4566-8296-eecca9d3369d",
   "metadata": {},
   "outputs": [],
   "source": [
    "def fun(x):\n",
    "    return ((x**4)/4) - (x**3) - x"
   ]
  },
  {
   "cell_type": "code",
   "execution_count": 19,
   "id": "47796a05-4cd8-4e80-8d14-dca638a46232",
   "metadata": {},
   "outputs": [
    {
     "name": "stdout",
     "output_type": "stream",
     "text": [
      "1.5630361444030072e-06 0.9999984369638556\n",
      "-106630.69721642027 106630.69721798331\n"
     ]
    },
    {
     "ename": "ZeroDivisionError",
     "evalue": "float division by zero",
     "output_type": "error",
     "traceback": [
      "\u001b[31m---------------------------------------------------------------------------\u001b[39m",
      "\u001b[31mZeroDivisionError\u001b[39m                         Traceback (most recent call last)",
      "\u001b[36mCell\u001b[39m\u001b[36m \u001b[39m\u001b[32mIn[19]\u001b[39m\u001b[32m, line 1\u001b[39m\n\u001b[32m----> \u001b[39m\u001b[32m1\u001b[39m \u001b[43mnewton\u001b[49m\u001b[43m.\u001b[49m\u001b[43mnewton\u001b[49m\u001b[43m(\u001b[49m\u001b[32;43m1\u001b[39;49m\u001b[43m,\u001b[49m\u001b[43m \u001b[49m\u001b[43mfun\u001b[49m\u001b[43m)\u001b[49m\n",
      "\u001b[36mFile \u001b[39m\u001b[32m~/newton-practice/newton.py:8\u001b[39m, in \u001b[36mnewton\u001b[39m\u001b[34m(x0, f)\u001b[39m\n\u001b[32m      6\u001b[39m f1 = (f(x0 + eps) - f(x0 - eps)) / (eps * \u001b[32m2\u001b[39m)\n\u001b[32m      7\u001b[39m f2 = (f(x0 + eps) - \u001b[32m2\u001b[39m * f(x0) + f(x0 - eps)) / (eps**\u001b[32m2\u001b[39m)\n\u001b[32m----> \u001b[39m\u001b[32m8\u001b[39m diff = \u001b[43mf1\u001b[49m\u001b[43m \u001b[49m\u001b[43m/\u001b[49m\u001b[43m \u001b[49m\u001b[43mf2\u001b[49m\n\u001b[32m      9\u001b[39m x0 = x0 - diff\n\u001b[32m     10\u001b[39m \u001b[38;5;28mprint\u001b[39m(x0, diff)\n",
      "\u001b[31mZeroDivisionError\u001b[39m: float division by zero"
     ]
    }
   ],
   "source": [
    "newton.newton(1, fun)"
   ]
  },
  {
   "cell_type": "code",
   "execution_count": null,
   "id": "32e94768-1bcc-43d6-8393-01340eb3caf9",
   "metadata": {},
   "outputs": [],
   "source": []
  }
 ],
 "metadata": {
  "kernelspec": {
   "display_name": "Python 3 (ipykernel)",
   "language": "python",
   "name": "python3"
  },
  "language_info": {
   "codemirror_mode": {
    "name": "ipython",
    "version": 3
   },
   "file_extension": ".py",
   "mimetype": "text/x-python",
   "name": "python",
   "nbconvert_exporter": "python",
   "pygments_lexer": "ipython3",
   "version": "3.11.13"
  }
 },
 "nbformat": 4,
 "nbformat_minor": 5
}

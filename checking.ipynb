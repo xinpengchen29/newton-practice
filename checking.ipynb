{
 "cells": [
  {
   "cell_type": "code",
   "execution_count": 2,
   "id": "4e9b4e10-0def-4807-ab19-32642edd5697",
   "metadata": {},
   "outputs": [],
   "source": [
    "import newton as nt\n",
    "import numpy as np"
   ]
  },
  {
   "cell_type": "code",
   "execution_count": 3,
   "id": "934a1600-c7b6-4241-88c9-c6d2d0fb0e5d",
   "metadata": {},
   "outputs": [],
   "source": [
    "def fun(x):\n",
    "    return (x**4/4) - x**3 - x"
   ]
  },
  {
   "cell_type": "code",
   "execution_count": 4,
   "id": "e7d0822a-1b0f-47d6-bae1-f0a73693c620",
   "metadata": {},
   "outputs": [
    {
     "name": "stdout",
     "output_type": "stream",
     "text": [
      "1.5630361444030072e-06 0.9999984369638556\n",
      "-106630.69721642027 106630.69721798331\n"
     ]
    },
    {
     "ename": "RuntimeError",
     "evalue": "Second derivative zero, choose different start value.",
     "output_type": "error",
     "traceback": [
      "\u001b[31m---------------------------------------------------------------------------\u001b[39m",
      "\u001b[31mRuntimeError\u001b[39m                              Traceback (most recent call last)",
      "\u001b[36mCell\u001b[39m\u001b[36m \u001b[39m\u001b[32mIn[4]\u001b[39m\u001b[32m, line 1\u001b[39m\n\u001b[32m----> \u001b[39m\u001b[32m1\u001b[39m \u001b[43mnt\u001b[49m\u001b[43m.\u001b[49m\u001b[43mnewton\u001b[49m\u001b[43m(\u001b[49m\u001b[32;43m1\u001b[39;49m\u001b[43m,\u001b[49m\u001b[43m \u001b[49m\u001b[43mfun\u001b[49m\u001b[43m)\u001b[49m\n",
      "\u001b[36mFile \u001b[39m\u001b[32m~/newton-practice/newton.py:12\u001b[39m, in \u001b[36mnewton\u001b[39m\u001b[34m(x0, f)\u001b[39m\n\u001b[32m     10\u001b[39m f2 = (f(x0 + eps) - \u001b[32m2\u001b[39m * f(x0) + f(x0 - eps)) / (eps**\u001b[32m2\u001b[39m)\n\u001b[32m     11\u001b[39m \u001b[38;5;28;01mif\u001b[39;00m f2 == \u001b[32m0\u001b[39m: \u001b[38;5;66;03m#check for zero division\u001b[39;00m\n\u001b[32m---> \u001b[39m\u001b[32m12\u001b[39m     \u001b[38;5;28;01mraise\u001b[39;00m \u001b[38;5;167;01mRuntimeError\u001b[39;00m(\u001b[33mf\u001b[39m\u001b[33m\"\u001b[39m\u001b[33mSecond derivative zero, choose different start value.\u001b[39m\u001b[33m\"\u001b[39m)\n\u001b[32m     13\u001b[39m diff = f1 / f2\n\u001b[32m     14\u001b[39m x0 = x0 - diff\n",
      "\u001b[31mRuntimeError\u001b[39m: Second derivative zero, choose different start value."
     ]
    }
   ],
   "source": [
    "nt.newton(1, fun)"
   ]
  }
 ],
 "metadata": {
  "kernelspec": {
   "display_name": "Python 3 (ipykernel)",
   "language": "python",
   "name": "python3"
  },
  "language_info": {
   "codemirror_mode": {
    "name": "ipython",
    "version": 3
   },
   "file_extension": ".py",
   "mimetype": "text/x-python",
   "name": "python",
   "nbconvert_exporter": "python",
   "pygments_lexer": "ipython3",
   "version": "3.11.13"
  }
 },
 "nbformat": 4,
 "nbformat_minor": 5
}
